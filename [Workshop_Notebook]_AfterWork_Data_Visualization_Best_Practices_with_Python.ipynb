{
  "nbformat": 4,
  "nbformat_minor": 0,
  "metadata": {
    "colab": {
      "provenance": [],
      "include_colab_link": true
    },
    "kernelspec": {
      "name": "python3",
      "display_name": "Python 3"
    },
    "language_info": {
      "name": "python"
    }
  },
  "cells": [
    {
      "cell_type": "markdown",
      "metadata": {
        "id": "view-in-github",
        "colab_type": "text"
      },
      "source": [
        "<a href=\"https://colab.research.google.com/github/dnmuasya/Case_Study_1/blob/main/%5BWorkshop_Notebook%5D_AfterWork_Data_Visualization_Best_Practices_with_Python.ipynb\" target=\"_parent\"><img src=\"https://colab.research.google.com/assets/colab-badge.svg\" alt=\"Open In Colab\"/></a>"
      ]
    },
    {
      "cell_type": "markdown",
      "source": [
        "<font color=\"blue\">To use this notebook on Colaboratory, you will need to make a copy of it. Go to File > Save a Copy in Drive. You can then use the new copy that will appear in the new tab.</font>"
      ],
      "metadata": {
        "id": "O9MtWeJh8op9"
      }
    },
    {
      "cell_type": "markdown",
      "source": [
        "### Table of contents\n",
        "In this notebook we'll cover the following concepts regarding data visualization best practices are covered:\n",
        "\n",
        "1. Clarity and comprehension in data visualization\n",
        "2. Choosing the right visualization type\n",
        "3. Format styles\n",
        "> - Color\n",
        "> - Labelling\n",
        "> - Use of gridlines\n",
        "4. Highlighting what's important\n",
        "\n"
      ],
      "metadata": {
        "id": "Z3Wmr3-1QaC_"
      }
    },
    {
      "cell_type": "markdown",
      "source": [
        "# AfterWork: Data Visualization Best Practices with Python Course"
      ],
      "metadata": {
        "id": "w0-zcYuwQU2M"
      }
    },
    {
      "cell_type": "markdown",
      "source": [
        "## Prerequisites"
      ],
      "metadata": {
        "id": "I3zHiuCjQXIs"
      }
    },
    {
      "cell_type": "markdown",
      "source": [
        "Import the libraries below in order to use the notebook"
      ],
      "metadata": {
        "id": "AskllRLbtqPy"
      }
    },
    {
      "cell_type": "code",
      "execution_count": null,
      "metadata": {
        "id": "sP8pQOH7QBm-"
      },
      "outputs": [],
      "source": [
        "# importing matplotlib for plotting\n",
        "# ---\n",
        "#\n",
        "import matplotlib.pyplot as plt\n",
        "\n",
        "# importing seaborn for plotting\n",
        "# ---\n",
        "#\n",
        "import seaborn as sns\n",
        "\n",
        "# importing numpy for scientific computations\n",
        "# ---\n",
        "#\n",
        "import numpy as np\n",
        "\n",
        "# importing pandas for data manipulation\n",
        "# ---\n",
        "#\n",
        "import pandas as pd"
      ]
    },
    {
      "cell_type": "markdown",
      "source": [
        "We will be using the `Seaborn` and `Matplotlib` libraries because while `Matplotlib` serves as a versatile plotting library, `Seaborn` adds additional functionality and aesthetics."
      ],
      "metadata": {
        "id": "SCaqb-m_RWYs"
      }
    },
    {
      "cell_type": "markdown",
      "source": [
        "## 1. Basic Overview"
      ],
      "metadata": {
        "id": "Xfw5oX-2RaYl"
      }
    },
    {
      "cell_type": "markdown",
      "source": [
        "It is essential to employ best practices when we carry out data visualization related tasks, as this will aid in ensuring strategic decisions can be made based on the data.\n",
        "\n",
        "**Clarity and comprehension** is a key best practice in data visualization, as when a chart fails to effectively communicate what the data is representing, it might lead to misunderstanding the data."
      ],
      "metadata": {
        "id": "vMxp5bm1RkhH"
      }
    },
    {
      "cell_type": "markdown",
      "source": [
        "#### Example 1"
      ],
      "metadata": {
        "id": "E-Qj2clYFOY_"
      }
    },
    {
      "cell_type": "markdown",
      "source": [
        "In the example below, we will look at a dataset containing `Average Score` by `Years of Experience`, and show how clarity and comprehension can be used as a data visualization best practice through the use of:\n",
        "> - Chart titles and descriptions\n"
      ],
      "metadata": {
        "id": "G2eR-1rbFQfV"
      }
    },
    {
      "cell_type": "code",
      "source": [
        "# Dataset URL (CSV) = https://bit.ly/avg-scores-csv\n",
        "\n",
        "# Prepare dataset\n",
        "scores_df = pd.read_csv('https://bit.ly/avg-scores-csv', sep=',')\n",
        "\n",
        "# View dataframe\n",
        "scores_df.head()"
      ],
      "metadata": {
        "id": "b6dkWLNJRZqB"
      },
      "execution_count": null,
      "outputs": []
    },
    {
      "cell_type": "code",
      "source": [
        "# Set plot size for better visibility\n",
        "plt.figure(figsize=(8, 6))\n",
        "\n",
        "# Plot line chart\n",
        "plt.plot(scores_df[\"Years of Experience\"], # Define the x-axis\n",
        "         scores_df[\"Average Score\"], # Define y-axis\n",
        "         color=\"green\", label=\"Average Score\") # Style chart\n",
        "\n",
        "# Add a title\n",
        "plt.title('Average Score by Years of Experience')\n",
        "\n",
        "# Add an x-axis label with clear description\n",
        "plt.xlabel('Years of Experience')\n",
        "\n",
        "# Add a y-axis label with clear description\n",
        "plt.ylabel('Average Score')\n",
        "\n",
        "# Add a legend for better understanding\n",
        "plt.legend()\n",
        "\n",
        "# Display the plot\n",
        "plt.show()"
      ],
      "metadata": {
        "id": "NTvCWPGaqN_Q"
      },
      "execution_count": null,
      "outputs": []
    },
    {
      "cell_type": "markdown",
      "source": [
        "In the above examples, we have used the following techniques to ensure the plots are easily understood:\n",
        "\n",
        "* The codes ensure clear visualizations through descriptive labels, and appropriate plot sizes.\n",
        "* Incorporating legends and clear labels provides context and aids in the comprehension of the plotted data.\n",
        "* Adhering to best practices promotes clarity and comprehension in data visualization."
      ],
      "metadata": {
        "id": "9jsCvv1NSsM6"
      }
    },
    {
      "cell_type": "markdown",
      "source": [
        "#### <font color='green'> Challenge 1.1: Clarity and comprehension"
      ],
      "metadata": {
        "id": "aYZlWODgA1zJ"
      }
    },
    {
      "cell_type": "markdown",
      "source": [
        "Using the same `scores_df` dataset, create a bar chart that shows the distribution of average scores by years of experience.\n",
        "\n",
        "Ensure the chart is well-labelled."
      ],
      "metadata": {
        "id": "IYMLk5LZVIBO"
      }
    },
    {
      "cell_type": "code",
      "source": [
        "# Set the chart size\n",
        "plt.figure(figsize=(10, 6))\n",
        "\n",
        "# Plot the bar chart\n",
        "plt.bar(scores_df[\"Years of Experience\"], # Define the x-axis\n",
        "        scores_df[\"Average Score\"], # Define the y-axis\n",
        "        color='royalblue') # Set the color of the chart\n",
        "\n",
        "# YOUR CODE GOES HERE\n",
        "# ---\n",
        "\n",
        "# Set the chart title\n",
        "plt.title(\"\")\n",
        "\n",
        "# Set the axes labels\n",
        "plt.xlabel(\"Years of Experience\")\n",
        "plt.ylabel(\"Average Score\")\n",
        "\n",
        "# Display chart\n",
        "plt.show()"
      ],
      "metadata": {
        "id": "YGfBfCKtQlfq"
      },
      "execution_count": null,
      "outputs": []
    },
    {
      "cell_type": "markdown",
      "source": [
        "## 2. Clarity and comprehension"
      ],
      "metadata": {
        "id": "tIUmmTHeCZyw"
      }
    },
    {
      "cell_type": "markdown",
      "source": [
        "Our charts should easily understand and communicate what is in the data effectively.\n",
        "\n",
        "We can achieve this by using the following techniques:\n",
        "1. Chart titles and descriptions\n",
        "2. Sorting data\n",
        "3. Annotating the data"
      ],
      "metadata": {
        "id": "gzH5ss5xDWwY"
      }
    },
    {
      "cell_type": "markdown",
      "source": [
        "### Examples"
      ],
      "metadata": {
        "id": "KGflOo9DOU1c"
      }
    },
    {
      "cell_type": "markdown",
      "source": [
        "#### 2.1 Chart titles and descriptions"
      ],
      "metadata": {
        "id": "-lHTL527Sd5F"
      }
    },
    {
      "cell_type": "markdown",
      "source": [
        "Two ways we could use chart titles:\n",
        "> 1. Describe the query - Used when monitoring data without bias\n",
        "> 2. Explaining insights - Using data to tell a story"
      ],
      "metadata": {
        "id": "gmji7O6uSkpD"
      }
    },
    {
      "cell_type": "markdown",
      "source": [
        "##### Example 1: Describe the query"
      ],
      "metadata": {
        "id": "sQ5aj4m2OTF3"
      }
    },
    {
      "cell_type": "markdown",
      "source": [
        "This approach is suitable when our goal is to present data without any interpretation or bias, often used in monitoring or reporting scenarios."
      ],
      "metadata": {
        "id": "R0Wd_ah0ddvV"
      }
    },
    {
      "cell_type": "code",
      "source": [
        "# Load dataset\n",
        "# This dataset will be used for all examples in the notebook\n",
        "# ---\n",
        "# Dataset url (https://bit.ly/shop-data)\n",
        "\n",
        "# Load data\n",
        "customer_data = pd.read_csv(\"https://bit.ly/shop-data\")\n",
        "\n",
        "# View the dataset\n",
        "customer_data.head()"
      ],
      "metadata": {
        "id": "iIgvYNMvG6b-"
      },
      "execution_count": null,
      "outputs": []
    },
    {
      "cell_type": "code",
      "source": [
        "# Question\n",
        "# ---\n",
        "# Plot a histogram to show the distribution of customer ages.\n",
        "# The title should describe the query\n",
        "# ---\n",
        "\n",
        "# Set figure size\n",
        "plt.figure(figsize=(10, 5))\n",
        "\n",
        "# Plot chart\n",
        "plt.hist(customer_data['Age'], bins=20, edgecolor='black', alpha=0.7)\n",
        "\n",
        "# Add title describing the query\n",
        "plt.title('Distribution of Customer Ages')\n",
        "\n",
        "# Add axes label\n",
        "plt.xlabel('Age')\n",
        "plt.ylabel('Number of Customers')\n",
        "\n",
        "# Display plot\n",
        "plt.show()"
      ],
      "metadata": {
        "id": "nDKwvcRhOSQU"
      },
      "execution_count": null,
      "outputs": []
    },
    {
      "cell_type": "markdown",
      "source": [
        "- In these charts, we use a neutral title that simply state what the data represents.\n",
        "- They are factual and unbiased, perfect for a general audience or ongoing monitoring."
      ],
      "metadata": {
        "id": "wTfr2qRUd3CF"
      }
    },
    {
      "cell_type": "markdown",
      "source": [
        "##### Example 2: Explaining the insights"
      ],
      "metadata": {
        "id": "Z-dMQ8rXOg01"
      }
    },
    {
      "cell_type": "markdown",
      "source": [
        "We use this approach when the goal is to convey a specific insight or story from the data. It's more interpretive and often used in presentations or reports to highlight specific findings or trends."
      ],
      "metadata": {
        "id": "JtzW2xmHes3i"
      }
    },
    {
      "cell_type": "code",
      "source": [
        "# Question\n",
        "# ---\n",
        "# Plot a histogram to analyze the age distribution of customers, highlighting any significant trends or concentrations.\n",
        "# The title should reflect a specific insight, such as concentration in a particular age group.\n",
        "# ---\n",
        "\n",
        "# Set figure size\n",
        "plt.figure(figsize=(10, 5))\n",
        "\n",
        "# Plot chart\n",
        "plt.hist(customer_data['Age'], bins=20, edgecolor='black', alpha=0.7)\n",
        "\n",
        "# Add title explaining the insights\n",
        "plt.title('Customer Age Analysis: Concentration in Senior Age Group')\n",
        "\n",
        "# Add axes label\n",
        "plt.xlabel('Age')\n",
        "plt.ylabel('Number of Customers')\n",
        "\n",
        "# Display plot\n",
        "plt.show()"
      ],
      "metadata": {
        "id": "UCJx-8zJOlaS"
      },
      "execution_count": null,
      "outputs": []
    },
    {
      "cell_type": "markdown",
      "source": [
        "- This chart's title highlights a specific aspect of the data by telling a story or pointing out a particular trend.\n",
        "- We can use this approach when we need to engage the audience and drive specific points home."
      ],
      "metadata": {
        "id": "v0zvxPgbePYx"
      }
    },
    {
      "cell_type": "markdown",
      "source": [
        "####  <font color='green'> Challenge 2.1: Chart titles\n"
      ],
      "metadata": {
        "id": "SN7URbRjhmZU"
      }
    },
    {
      "cell_type": "code",
      "source": [
        "# Load challenge data\n",
        "# ---\n",
        "# Dataset URL (CSV) -- \"https://bit.ly/profit-data\"\n",
        "\n",
        "# Load data using Pandas\n",
        "df_profit = pd.read_csv(\"https://bit.ly/profit-data\")\n",
        "\n",
        "# View dataframe\n",
        "df_profit.head()"
      ],
      "metadata": {
        "id": "UVjx_6j1UeiI"
      },
      "execution_count": null,
      "outputs": []
    },
    {
      "cell_type": "markdown",
      "source": [
        "**Describing the query**"
      ],
      "metadata": {
        "id": "VaKpcEdFix5U"
      }
    },
    {
      "cell_type": "code",
      "source": [
        "# Question\n",
        "# ---\n",
        "# Plot a bar chart to show the trend of the monthly profits.\n",
        "# The title should describe the query\n",
        "# ---\n",
        "\n",
        "# YOUR CODE GOES BELOW\n",
        "\n",
        "# Set chart size\n",
        "plt.figure(figsize=(10, 5))\n",
        "\n",
        "# Plot bar chart\n",
        "plt.barh(df_profit['Month'],  # Define x-axis\n",
        "        df_profit['Profit'],  # Define y-axis\n",
        "        color='skyblue')  # Define color of the chart\n",
        "\n",
        "# Set chart title here\n",
        "plt.title('')\n",
        "\n",
        "# Set axes label\n",
        "plt.ylabel('Month')\n",
        "plt.xlabel('Profit')\n",
        "\n",
        "# Display plot\n",
        "plt.show()"
      ],
      "metadata": {
        "id": "mHGuVPG4kaMd"
      },
      "execution_count": null,
      "outputs": []
    },
    {
      "cell_type": "markdown",
      "source": [
        "**Explaining insights**\n",
        "\n",
        "Using the same data from the question above, can you use a chart title to explain insights from the data."
      ],
      "metadata": {
        "id": "fOHaDoMvjgu2"
      }
    },
    {
      "cell_type": "code",
      "source": [
        "# Question\n",
        "# ---\n",
        "# Plot a bar chart to show the trend of the monthly profits.\n",
        "# The title should explain insights from the data.\n",
        "# ---\n",
        "\n",
        "# YOUR CODE GOES BELOW\n",
        "\n",
        "# Set chart size\n",
        "plt.figure(figsize=(10, 5))\n",
        "\n",
        "# Plot chart\n",
        "plt.bar(df_profit['Month'], # Define x-axis\n",
        "        df_profit['Profit'], # Define y-axis\n",
        "        color='skyblue') # Set the color of the chart\n",
        "\n",
        "\n",
        "# Set chart title here\n",
        "plt.title('')\n",
        "\n",
        "# Set axes label\n",
        "plt.xlabel('Month')\n",
        "plt.ylabel('Profit')\n",
        "\n",
        "# Display plot\n",
        "plt.show()"
      ],
      "metadata": {
        "id": "4e6nWJuijkCX"
      },
      "execution_count": null,
      "outputs": []
    },
    {
      "cell_type": "markdown",
      "source": [
        "#### 2.2 Sorting data"
      ],
      "metadata": {
        "id": "q-vBK3HXS48A"
      }
    },
    {
      "cell_type": "markdown",
      "source": [
        "We sort the data in our visualizations to allow the insights in our data sets to be communicated and illustrated in the right order.\n",
        "\n",
        "We can sort our data by:\n",
        "\n",
        "- Alphabetical order\n",
        "- Ascending order\n",
        "- Descending order\n",
        "\n",
        "This can be done using the `sort_values` function in Pandas."
      ],
      "metadata": {
        "id": "skEnipiQS8zN"
      }
    },
    {
      "cell_type": "markdown",
      "source": [
        "##### Example 1: Alphabetical order"
      ],
      "metadata": {
        "id": "09Pi_Xo6Oj_m"
      }
    },
    {
      "cell_type": "markdown",
      "source": [
        "Sorting data by alphabetical order allows us to quickly identify categories in the data.\n",
        "\n",
        "This can be useful when dealing with multiple categories, and we need to quickly identify a particular category."
      ],
      "metadata": {
        "id": "TSFAe0kiWZEW"
      }
    },
    {
      "cell_type": "code",
      "source": [
        "# Question: Alphabetical order\n",
        "# ---\n",
        "# Sort the data in alphabetical order by Customer ID and display using a bar chart\n",
        "# ---\n",
        "\n",
        "# Sort data by Customer ID in alphabetical order\n",
        "# Limit to 10\n",
        "top_customers_data = customer_data.sort_values(by='Customer_ID', ascending=True).head(10)\n",
        "\n",
        "# View output\n",
        "top_customers_data"
      ],
      "metadata": {
        "id": "D6zzpz7ZOl6Y"
      },
      "execution_count": null,
      "outputs": []
    },
    {
      "cell_type": "code",
      "source": [
        "# Set figure size\n",
        "plt.figure(figsize=(10, 6))\n",
        "\n",
        "# Plot bar chart with sorted data\n",
        "plt.bar(top_customers_data['Customer_ID'], # Define x-axis\n",
        "        top_customers_data['Total_Purchases'], # Define y-axis\n",
        "        color='purple') # Set the color of the chart\n",
        "\n",
        "# Add title for top customers\n",
        "plt.title('Bar Chart of Total Purchases (Alphabetically Sorted)')\n",
        "\n",
        "# Add axes labels\n",
        "plt.xlabel('Customer ID')\n",
        "plt.ylabel('Total Purchases')\n",
        "\n",
        "# Display plot\n",
        "plt.show()"
      ],
      "metadata": {
        "id": "V8opBBjQIusP"
      },
      "execution_count": null,
      "outputs": []
    },
    {
      "cell_type": "markdown",
      "source": [
        "##### Example 2: Ascending order"
      ],
      "metadata": {
        "id": "s5vYT1PoTfEZ"
      }
    },
    {
      "cell_type": "markdown",
      "source": [
        "In this example, the data is sorted from *lowest to highest*.\n",
        "\n",
        "This is useful when we need to tell a story with our data and showing incremental changes."
      ],
      "metadata": {
        "id": "RA9NsSZaVAXZ"
      }
    },
    {
      "cell_type": "code",
      "source": [
        "# Question : Ascending order\n",
        "# ---\n",
        "# Create a bar plot to show the total purchases of customers, arranged in ascending order.\n",
        "# ---\n",
        "\n",
        "# Sort data by total purchases in ascending order\n",
        "top_10_ascending_data = customer_data.sort_values(by='Total_Purchases').head(10)\n",
        "\n",
        "# View output\n",
        "top_10_ascending_data"
      ],
      "metadata": {
        "id": "GLMs93b2VpNA"
      },
      "execution_count": null,
      "outputs": []
    },
    {
      "cell_type": "code",
      "source": [
        "# Set figure size\n",
        "plt.figure(figsize=(10, 6))\n",
        "\n",
        "# Plot chart with sorted data\n",
        "plt.bar(top_10_ascending_data['Customer_ID'], # Define x-axis\n",
        "        top_10_ascending_data['Total_Purchases'], # Define y-axis\n",
        "        color='green') # Set the color of the chart\n",
        "\n",
        "# Add title for ascending order (top 10)\n",
        "plt.title('Top 10 Customers: Total Purchases in Ascending Order by Customer ID')\n",
        "\n",
        "# Add axes labels\n",
        "plt.xlabel('Customer ID')\n",
        "plt.ylabel('Total Purchases')\n",
        "\n",
        "# Display plot\n",
        "plt.show()"
      ],
      "metadata": {
        "id": "bN4SerapIeY3"
      },
      "execution_count": null,
      "outputs": []
    },
    {
      "cell_type": "markdown",
      "source": [
        "##### Example 3: Descending order"
      ],
      "metadata": {
        "id": "PD2RFxU1ThKw"
      }
    },
    {
      "cell_type": "markdown",
      "source": [
        "\n",
        "Sorting data from highest to lowest is useful when we need to compare between categories."
      ],
      "metadata": {
        "id": "S339J4C_X7gz"
      }
    },
    {
      "cell_type": "code",
      "source": [
        "# Question : Descending order\n",
        "# ---\n",
        "# Create a bar plot to show the total purchases of customers, arranged in descending order.\n",
        "# ---\n",
        "\n",
        "# Sort data by total purchases in descending order\n",
        "top_10_descending_data = customer_data.sort_values(by='Total_Purchases', ascending=False).head(10)\n",
        "\n",
        "# View output\n",
        "top_10_descending_data"
      ],
      "metadata": {
        "id": "aAwtIkBWTio6"
      },
      "execution_count": null,
      "outputs": []
    },
    {
      "cell_type": "code",
      "source": [
        "# Set figure size\n",
        "plt.figure(figsize=(10, 6))\n",
        "\n",
        "# Plot chart with sorted data\n",
        "plt.bar(top_10_descending_data['Customer_ID'], # Define the x-axis\n",
        "        top_10_descending_data['Total_Purchases'], # Define the y-axis\n",
        "        color='royalblue') # Set the color of the chart\n",
        "\n",
        "# Add title for descending order (top 10)\n",
        "plt.title('Top 10 Customers: Total Purchases in Descending Order by Customer ID')\n",
        "\n",
        "# Add axes labels\n",
        "plt.xlabel('Customer ID')\n",
        "plt.ylabel('Total Purchases')\n",
        "\n",
        "# Display plot\n",
        "plt.show()"
      ],
      "metadata": {
        "id": "gntdKorxI-Tk"
      },
      "execution_count": null,
      "outputs": []
    },
    {
      "cell_type": "markdown",
      "source": [
        "#### <font color='green'> Challenge 2.2: Sorting data"
      ],
      "metadata": {
        "id": "XupKuCaomeKk"
      }
    },
    {
      "cell_type": "markdown",
      "source": [
        "**Ascending order**"
      ],
      "metadata": {
        "id": "ck4oegaYmnmD"
      }
    },
    {
      "cell_type": "code",
      "source": [
        "# Question\n",
        "# ---\n",
        "# Sort the data by 'Profit' in ascending order and visualize it using a bar chart\n",
        "# ---\n",
        "# YOUR CODE GOES BELOW\n",
        "#\n",
        "\n",
        "# Sort profit in ascending order\n",
        "\n",
        "\n",
        "\n",
        "# Set chart size\n",
        "plt.figure(figsize=(10, 5))\n",
        "\n",
        "# Plot chart with sorted values\n",
        "\n",
        "\n",
        "# Set chart title\n",
        "plt.title('Profits Sorted in Ascending Order')\n",
        "\n",
        "# Set axes label\n",
        "plt.xlabel('Month')\n",
        "plt.ylabel('Profit')\n",
        "\n",
        "# Display plot\n",
        "plt.show()"
      ],
      "metadata": {
        "id": "j4Hpx5-Ymwc3"
      },
      "execution_count": null,
      "outputs": []
    },
    {
      "cell_type": "markdown",
      "source": [
        "#### 2.3 Annotating your data"
      ],
      "metadata": {
        "id": "A23l0T4RTl2m"
      }
    },
    {
      "cell_type": "markdown",
      "source": [
        "\n",
        "Annotating our data visualizations is key as it can add context and perspective to them.\n",
        "\n",
        "We can achieve this by:\n",
        "\n",
        "1. Annotations in charts\n",
        "2. Comments for context"
      ],
      "metadata": {
        "id": "T9nG2wD-TqWB"
      }
    },
    {
      "cell_type": "markdown",
      "source": [
        "##### Example 1: Annotations in charts"
      ],
      "metadata": {
        "id": "f76RhiC-Trff"
      }
    },
    {
      "cell_type": "markdown",
      "source": [
        "We can use annotations directly in our charts to highlight specific points or trends."
      ],
      "metadata": {
        "id": "xwSXjAljf9cw"
      }
    },
    {
      "cell_type": "code",
      "source": [
        "# Question\n",
        "# ---\n",
        "# Create a histogram to display the distribution of customer ages.\n",
        "# Annotate the age group with the least number of customers.\n",
        "# ---\n",
        "\n",
        "# Set figure size\n",
        "plt.figure(figsize=(10, 6))\n",
        "\n",
        "# Plot histogram\n",
        "n, bins, patches = plt.hist(customer_data['Age'], edgecolor='royalblue', bins=10, alpha=0.5)\n",
        "\n",
        "# Find the min height for annotations\n",
        "min_height = min(n)\n",
        "\n",
        "# Adding annotations for specific age groups\n",
        "for i in range(len(patches)):  # Loop will iterate over each bar in the histogram\n",
        "\n",
        "    # Check if the current histogram bar has the minimum height\n",
        "    if n[i] == min_height:  # Highlight the least populated age group\n",
        "\n",
        "    # Adding annotations to the plot using 'plt.text' function\n",
        "        plt.text(patches[i].xy[0], n[i], f'Least\\n{int(bins[i])}-{int(bins[i+1])} yrs',\n",
        "                 fontsize=12, ha='left', va='bottom') # Styling the annotations\n",
        "\n",
        "# Add title\n",
        "plt.title('Distribution of Customer Ages with Annotations')\n",
        "\n",
        "# Add axes labels\n",
        "plt.xlabel('Age')\n",
        "plt.ylabel('Number of Customers')\n",
        "\n",
        "\n",
        "# Display plot\n",
        "plt.show()"
      ],
      "metadata": {
        "id": "yZU7Ti86f99Y"
      },
      "execution_count": null,
      "outputs": []
    },
    {
      "cell_type": "markdown",
      "source": [
        "##### Example 2: Comments for context"
      ],
      "metadata": {
        "id": "toDEFqmxgVr2"
      }
    },
    {
      "cell_type": "markdown",
      "source": [
        "\n",
        "We use comments within our code in order to explain what's happening or the rationale behind certain choices, this is **not seen** in the visual output but it is important for understanding the code."
      ],
      "metadata": {
        "id": "Mz1_u0stgt3c"
      }
    },
    {
      "cell_type": "code",
      "source": [
        "# Question\n",
        "# ---\n",
        "# Create a histogram to display the distribution of customer ages.\n",
        "# Write well-written comments in the code.\n",
        "# ---\n",
        "\n",
        "# Set figure size\n",
        "plt.figure(figsize=(10, 6))\n",
        "\n",
        "# Plot histogram\n",
        "plt.hist(customer_data['Age'], edgecolor='royalblue', bins=10, alpha=0.5)\n",
        "\n",
        "# Add title\n",
        "plt.title('Distribution of Customer Ages')\n",
        "\n",
        "# Add axes labels\n",
        "plt.xlabel('Age')\n",
        "plt.ylabel('Number of Customers')\n",
        "\n",
        "# Display plot\n",
        "plt.show()"
      ],
      "metadata": {
        "id": "n_3aXgvPgWL_"
      },
      "execution_count": null,
      "outputs": []
    },
    {
      "cell_type": "markdown",
      "source": [
        "- In this second example, we use comments to explain each part of the code, including the rationale behind the annotation.\n",
        "\n",
        "- This is essential for anyone reading the code to understand the decisions made during the visualization process. It is also suitable for the reproducibility of our code."
      ],
      "metadata": {
        "id": "Bx5PthSdg5AM"
      }
    },
    {
      "cell_type": "markdown",
      "source": [
        "#### <font color='green'> Challenge 2.3 : Annotating data"
      ],
      "metadata": {
        "id": "md6Chyhd_BDq"
      }
    },
    {
      "cell_type": "code",
      "source": [
        "# Question\n",
        "# ---\n",
        "# Plot a bar chart that shows the month with the highest profit\n",
        "# ---\n",
        "# YOUR CODE GOES BELOW\n",
        "\n",
        "# Find the month with the highest profit\n",
        "max_profit_month = df_profit.loc[df_profit['Profit'].idxmax(), 'Month']\n",
        "\n",
        "# View output\n",
        "print(f\"The month with the highest profit is {max_profit_month}.\")"
      ],
      "metadata": {
        "id": "wgRItAD2_MZc"
      },
      "execution_count": null,
      "outputs": []
    },
    {
      "cell_type": "code",
      "source": [
        "# Set chart size\n",
        "plt.figure(figsize=(10, 6))\n",
        "\n",
        "# Plot chart\n",
        "plt.bar(df_profit['Month'], df_profit['Profit'], color='skyblue', label='Monthly Profits')\n",
        "\n",
        "# Annotate chart\n",
        "\n",
        "\n",
        "\n",
        "\n",
        "\n",
        "# Style chart; add title and labels\n",
        "plt.title('Monthly Profits')\n",
        "plt.xlabel('Month')\n",
        "plt.ylabel('Profit')\n",
        "\n",
        "# Display chart\n",
        "plt.legend()\n",
        "plt.show()"
      ],
      "metadata": {
        "id": "Qp3-6biwAMFr"
      },
      "execution_count": null,
      "outputs": []
    },
    {
      "cell_type": "markdown",
      "source": [
        "## 3. Selecting the right visualization type"
      ],
      "metadata": {
        "id": "TurcHks4CeMO"
      }
    },
    {
      "cell_type": "markdown",
      "source": [
        "Selecting the right chart types will be dependent on the data we are working with.\n",
        "\n",
        "Here are some main categories of chart types.\n",
        ">\n",
        " > 1. Trend analysis\n",
        " > 2. Correlation/Relationship exploration\n",
        " > 3. Composition/Part to whole analysis\n",
        " > 4. Distribution\n",
        " > 5. Comparisons of items"
      ],
      "metadata": {
        "id": "h6zoTBdyDVXe"
      }
    },
    {
      "cell_type": "markdown",
      "source": [
        "### Examples"
      ],
      "metadata": {
        "id": "uUlaFetd0oJn"
      }
    },
    {
      "cell_type": "markdown",
      "source": [
        "#### 3.1 Trend analysis"
      ],
      "metadata": {
        "id": "LMf6y4oo0p1u"
      }
    },
    {
      "cell_type": "markdown",
      "source": [
        "These types of charts are most suitable when we are visualizing changes/trends over a period of time.\n",
        "\n",
        "Under this category, we have the following types of charts:\n",
        "\n",
        "> 1. Line charts\n",
        "> 2. Area plots\n"
      ],
      "metadata": {
        "id": "3vtH4NnP1Ubc"
      }
    },
    {
      "cell_type": "markdown",
      "source": [
        "##### **Line charts**"
      ],
      "metadata": {
        "id": "QtazXXOwysSB"
      }
    },
    {
      "cell_type": "markdown",
      "source": [
        "Line charts help us understand trends over time, particulary patterns that show acceleration, decelaration and volatility."
      ],
      "metadata": {
        "id": "dFKKzs1Rz6in"
      }
    },
    {
      "cell_type": "code",
      "source": [
        "# Question: Line chart\n",
        "# ---\n",
        "# Create a line chart that shows the average purchase trend with age\n",
        "# ---\n",
        "\n",
        "# Grouping data by 'Age' and calculating the mean of 'Total_Purchases'\n",
        "age_grouped = customer_data.groupby('Age')['Total_Purchases'].mean()\n",
        "\n",
        "# View output\n",
        "age_grouped.head()"
      ],
      "metadata": {
        "id": "YktHxEIbzfY7"
      },
      "execution_count": null,
      "outputs": []
    },
    {
      "cell_type": "code",
      "source": [
        "# Set chart size\n",
        "plt.figure(figsize=(10, 6))\n",
        "\n",
        "# Plot chart\n",
        "plt.plot(age_grouped, # Define data\n",
        "         linestyle='--', # Set the line style\n",
        "         color='seagreen') # Set color of the line chart\n",
        "\n",
        "# Set chart title\n",
        "plt.title('Mean Total Purchases Trend with Age')\n",
        "\n",
        "# Set axes label\n",
        "plt.xlabel('Age')\n",
        "plt.ylabel('Mean Total Purchases')\n",
        "\n",
        "\n",
        "# Display the plot\n",
        "plt.show()"
      ],
      "metadata": {
        "id": "hFygklep1ZT-"
      },
      "execution_count": null,
      "outputs": []
    },
    {
      "cell_type": "markdown",
      "source": [
        "##### **Area chart**"
      ],
      "metadata": {
        "id": "wWBKu7d03J5T"
      }
    },
    {
      "cell_type": "markdown",
      "source": [
        "This type of chart is used when we need to visualize cumulative trends of different components over time."
      ],
      "metadata": {
        "id": "PSLmMCZ53Ohb"
      }
    },
    {
      "cell_type": "code",
      "source": [
        "# Question\n",
        "# ---\n",
        "# Visualize an area chart to show the cumulative total purchases over age\n",
        "# ---\n",
        "\n",
        "# Set chart size\n",
        "plt.figure(figsize=(10, 6))\n",
        "\n",
        "# Group the data\n",
        "# Use fill between function to fill the area under the curve\n",
        "plt.fill_between(customer_data.groupby('Age')['Total_Purchases'].sum().index,\n",
        "                 customer_data.groupby('Age')['Total_Purchases'].sum().values,\n",
        "                 color='orange', alpha=0.5) # Style the chart\n",
        "\n",
        "# Set chart title\n",
        "plt.title('Cumulative Total Purchases over Age')\n",
        "\n",
        "# Set axes label\n",
        "plt.xlabel('Age')\n",
        "plt.ylabel('Cumulative Total Purchases')\n",
        "\n",
        "# Display plot\n",
        "plt.show()"
      ],
      "metadata": {
        "id": "xqwVMfd13gsS"
      },
      "execution_count": null,
      "outputs": []
    },
    {
      "cell_type": "markdown",
      "source": [
        "#### <font color='green'> Challenge 3.1: Trend analysis chart"
      ],
      "metadata": {
        "id": "cZzBbSel2WTa"
      }
    },
    {
      "cell_type": "code",
      "source": [
        "# Question\n",
        "# ---\n",
        "# Conduct a trend analysis by visualizing the monthly profits over the year using a line chart.\n",
        "# ---\n",
        "# YOUR CODE GOES BELOW\n",
        "\n",
        "# Set chart size\n",
        "plt.figure(figsize=(10, 5))\n",
        "\n",
        "# Plot line chart here\n",
        "\n",
        "\n",
        "# Set chart title\n",
        "plt.title('Trend Analysis: Monthly Profits Over the Year')\n",
        "\n",
        "# Set label axes\n",
        "plt.xlabel('Month')\n",
        "plt.ylabel('Profit')\n",
        "\n",
        "# Display the line chart\n",
        "plt.show()"
      ],
      "metadata": {
        "id": "MSmrjxua2b0p"
      },
      "execution_count": null,
      "outputs": []
    },
    {
      "cell_type": "markdown",
      "source": [
        "#### 3.2 Correlation/Relationship exploration"
      ],
      "metadata": {
        "id": "IAh2ikHe0tR6"
      }
    },
    {
      "cell_type": "markdown",
      "source": [
        "These types of charts are used when we explore the relationship between two or more variables in a dataset.\n",
        "\n",
        "They include:\n",
        "> 1. Correlation heat map\n",
        "> 2. Scatter plots"
      ],
      "metadata": {
        "id": "lR35-0jZ1TSb"
      }
    },
    {
      "cell_type": "markdown",
      "source": [
        "##### **Correlation heat map**"
      ],
      "metadata": {
        "id": "gWQBqoqD4rSx"
      }
    },
    {
      "cell_type": "markdown",
      "source": [
        "Used to highlight correlations between two dimensions with a metric of color."
      ],
      "metadata": {
        "id": "gGZ2wNLu5GGX"
      }
    },
    {
      "cell_type": "code",
      "source": [
        "# View correlation table using corr() function\n",
        "corr_matrix = customer_data.corr(numeric_only=True)\n",
        "\n",
        "# View output\n",
        "corr_matrix"
      ],
      "metadata": {
        "id": "HwrhSuyd4yMH"
      },
      "execution_count": null,
      "outputs": []
    },
    {
      "cell_type": "code",
      "source": [
        "# Question\n",
        "# ---\n",
        "# Create a heatmap using seaborn to visualize the correlation matrix\n",
        "# ---\n",
        "\n",
        "# Set the figure size for the plot\n",
        "plt.figure(figsize=(8,6))\n",
        "\n",
        "# Generate a heatmap using seaborn\n",
        "sns.heatmap(corr_matrix,\n",
        "            annot=True, # 'annot=True' displays the correlation values in each cell of the heatmap\n",
        "            cmap='coolwarm') # 'cmap' sets the color theme of the heatmap\n",
        "\n",
        "# Set the title of the heatmap\n",
        "plt.title('Correlation Map: Age vs Total Purchases')\n",
        "\n",
        "# Display the heatmap\n",
        "plt.show()"
      ],
      "metadata": {
        "id": "lvgIYW5g1Zi2"
      },
      "execution_count": null,
      "outputs": []
    },
    {
      "cell_type": "markdown",
      "source": [
        "##### **Scatter plots**"
      ],
      "metadata": {
        "id": "tho6yGDZ6lfk"
      }
    },
    {
      "cell_type": "markdown",
      "source": [
        "We use scatter plots to show how different variables correlate with each other."
      ],
      "metadata": {
        "id": "lGOKgpGR6xPZ"
      }
    },
    {
      "cell_type": "code",
      "source": [
        "# Question : Scatter plot\n",
        "# ---\n",
        "# Explore the relationship between customer age and total purchases using a scatter plot.\n",
        "# ---\n",
        "\n",
        "# Set the figure size for the plot\n",
        "plt.figure(figsize=(10, 6))\n",
        "\n",
        "# Plot the chart\n",
        "plt.scatter(customer_data['Age'], # Define x-axis\n",
        "            customer_data['Total_Purchases']) # Define y-axis\n",
        "\n",
        "# Set the chart title\n",
        "plt.title('Relationship Between Age and Total Purchases')\n",
        "\n",
        "# Set the axes label\n",
        "plt.xlabel('Age')\n",
        "plt.ylabel('Total Purchases')\n",
        "\n",
        "# Display the plot\n",
        "plt.show()"
      ],
      "metadata": {
        "id": "2F95aJXq6x8e"
      },
      "execution_count": null,
      "outputs": []
    },
    {
      "cell_type": "markdown",
      "source": [
        "#### <font color='green'> Challenge 3.2: Relationship exploration"
      ],
      "metadata": {
        "id": "5NPEpIWcgro4"
      }
    },
    {
      "cell_type": "code",
      "source": [
        "# Question\n",
        "# ---\n",
        "# Create a scatter plot to show the relationship between month and profit\n",
        "# ---\n",
        "# YOUR CODE GOES BELOW\n",
        "# ---\n",
        "\n",
        "# Set the figure size for the plot\n",
        "plt.figure(figsize=(10, 6))\n",
        "\n",
        "# Plot the chart here\n",
        "\n",
        "\n",
        "\n",
        "# Set the chart title\n",
        "plt.title('Relationship Between Profit and Month')\n",
        "\n",
        "# Set the axes label\n",
        "plt.xlabel('Month')\n",
        "plt.ylabel('Profit')\n",
        "\n",
        "# Display the plot\n",
        "plt.show()"
      ],
      "metadata": {
        "id": "EweT9GD6gz_n"
      },
      "execution_count": null,
      "outputs": []
    },
    {
      "cell_type": "markdown",
      "source": [
        "#### 3.3 Compositions analysis"
      ],
      "metadata": {
        "id": "NEG1uwTs06pB"
      }
    },
    {
      "cell_type": "markdown",
      "source": [
        "These types of charts are used when we visualize part-to-whole relationships in our data. They include:\n",
        "> 1. Pie charts\n",
        "> 2. Stacked area charts"
      ],
      "metadata": {
        "id": "KnDLm9Pd1SLq"
      }
    },
    {
      "cell_type": "markdown",
      "source": [
        "###### **Pie chart**"
      ],
      "metadata": {
        "id": "StCqdfSiPEUI"
      }
    },
    {
      "cell_type": "markdown",
      "source": [
        "Used when we show totals divided into categories by percentage."
      ],
      "metadata": {
        "id": "2RxAH33cQLfL"
      }
    },
    {
      "cell_type": "code",
      "source": [
        "# Question\n",
        "# ---\n",
        "# Create a pie chart to visualize the composition of customers by gender.\n",
        "# ---\n",
        "\n",
        "# Calculating the number of customers by gender\n",
        "gender_data = customer_data['Gender'].value_counts()\n",
        "\n",
        "# View output\n",
        "gender_data"
      ],
      "metadata": {
        "id": "5zdlKG0LRmfj"
      },
      "execution_count": null,
      "outputs": []
    },
    {
      "cell_type": "code",
      "source": [
        "# Set chart size\n",
        "plt.figure(figsize=(8, 8))\n",
        "\n",
        "# Plot pie chart\n",
        "plt.pie(gender_data, # Define data to plot\n",
        "        labels=gender_data.index, # Set labels to the chart using the index of gender_data\n",
        "        autopct='%1.1f%%', # Display percentage values in the chart\n",
        "        colors=['lightcoral', 'skyblue', 'seagreen']) # Define the colors to use in the chart\n",
        "\n",
        "# Add title\n",
        "plt.title('Composition of Customers by Gender')\n",
        "\n",
        "# Add legend\n",
        "plt.legend(gender_data.index, title='Gender')\n",
        "\n",
        "# Display the pie chart\n",
        "plt.show()"
      ],
      "metadata": {
        "id": "VdVZ50zs7-7X"
      },
      "execution_count": null,
      "outputs": []
    },
    {
      "cell_type": "markdown",
      "source": [
        "###### **Stacked area chart**"
      ],
      "metadata": {
        "id": "9OCnhu3XPccz"
      }
    },
    {
      "cell_type": "markdown",
      "source": [
        "Used when we show part to whole relationships over a period of time."
      ],
      "metadata": {
        "id": "RpvRGJ1TQDff"
      }
    },
    {
      "cell_type": "code",
      "source": [
        "# Question : Stacked area chart\n",
        "# ---\n",
        "# Create a stacked area chart that shows the pattern of total purchase by age group and gender\n",
        "# ---\n",
        "\n",
        "# Categorizing ages into groups\n",
        "bins = [0, 20, 30, 40, 50, 60, 70, 80]\n",
        "labels = ['0-20', '21-30', '31-40', '41-50', '51-60', '61-70', '71+']\n",
        "customer_data['Age_Group'] = pd.cut(customer_data['Age'], bins=bins, labels=labels, right=False)\n",
        "\n",
        "# Pivot table for the stacked area chart\n",
        "pivot_data = customer_data.pivot_table(index='Age_Group', columns='Gender', values='Total_Purchases', aggfunc='sum')\n",
        "\n",
        "# View output\n",
        "pivot_data"
      ],
      "metadata": {
        "id": "UUdUGkUL1ep8"
      },
      "execution_count": null,
      "outputs": []
    },
    {
      "cell_type": "code",
      "source": [
        "# Set chart size\n",
        "plt.figure(figsize=(12, 6))\n",
        "\n",
        "# Plot chart\n",
        "plt.stackplot(pivot_data.index, # Define x-axis using the pivot_data index\n",
        "              pivot_data['Male'], # Define y-axis with Male data\n",
        "              pivot_data['Female'], # Define y-axis with Female data\n",
        "              pivot_data['Other'], # Define y-axis with Other data\n",
        "              labels=['Male', 'Female', 'Other'], # Labels to be used in the legend\n",
        "              colors=['lightcoral', 'skyblue', 'seagreen'] # Set colors for the categories\n",
        "              )\n",
        "\n",
        "# Set chart title and label axes\n",
        "plt.title('Total Purchases by Age Group and Gender')\n",
        "plt.xlabel('Age Group')\n",
        "plt.ylabel('Total Purchases')\n",
        "\n",
        "# Display legend\n",
        "plt.legend()\n",
        "\n",
        "# Display the plot\n",
        "plt.show()"
      ],
      "metadata": {
        "id": "0UsZgeJjQI-W"
      },
      "execution_count": null,
      "outputs": []
    },
    {
      "cell_type": "markdown",
      "source": [
        "#### 3.4 Distribution analysis"
      ],
      "metadata": {
        "id": "QFgcgCjD0zW2"
      }
    },
    {
      "cell_type": "markdown",
      "source": [
        "\n",
        "These types of charts are used when we need to understand the frequency of values in our dataset.\n",
        "> 1. Histogram\n",
        "> 2. Box and whisker plot"
      ],
      "metadata": {
        "id": "_vlKc6qM1Stq"
      }
    },
    {
      "cell_type": "markdown",
      "source": [
        "###### **Histogram**"
      ],
      "metadata": {
        "id": "_XF_yokO9J6W"
      }
    },
    {
      "cell_type": "markdown",
      "source": [
        "Used when we need to show the frequency values occur in the data.\n"
      ],
      "metadata": {
        "id": "_IXn2UBi__vm"
      }
    },
    {
      "cell_type": "code",
      "source": [
        "# Question\n",
        "# ---\n",
        "# Create a histogram to display the distribution of age data\n",
        "# ---\n",
        "\n",
        "# Set chart size\n",
        "plt.figure(figsize=(10, 6))\n",
        "\n",
        "# Plot the histogram\n",
        "plt.hist(customer_data['Age'], # Define data\n",
        "         bins=8, # Define the ranges\n",
        "         # Style the chart\n",
        "         color='lightcoral', # Color of bars\n",
        "         edgecolor='black') # Color of the edge of the bar\n",
        "\n",
        "# Set chart title\n",
        "plt.title('Distribution of Customer Ages')\n",
        "\n",
        "# Set axes label\n",
        "plt.xlabel('Age')\n",
        "plt.ylabel('Number of Customers')\n",
        "\n",
        "# Display the chart\n",
        "plt.show()"
      ],
      "metadata": {
        "id": "WyOJUeiR9TTv"
      },
      "execution_count": null,
      "outputs": []
    },
    {
      "cell_type": "markdown",
      "source": [
        "###### **Box and whisker plot**"
      ],
      "metadata": {
        "id": "9RUyQ9N59NhN"
      }
    },
    {
      "cell_type": "markdown",
      "source": [
        "We use box and whisker plots to show the distribution in data sets by category.\n",
        "\n",
        "Box plots: Contains the median, first and third quartile ranges.\n",
        "\n",
        "Whisker plots: Represents the minimum and maximum points in the dataset."
      ],
      "metadata": {
        "id": "t8Rr4Lmo-03H"
      }
    },
    {
      "cell_type": "code",
      "source": [
        "# Question\n",
        "# ---\n",
        "# Create a Box and whisker plot to display the distribution of ages\n",
        "# ---\n",
        "\n",
        "# Set the figure size for the plot\n",
        "plt.figure(figsize=(10, 6))\n",
        "\n",
        "# Plot a box plot\n",
        "sns.boxplot(x=customer_data['Age'], # Define x-axis\n",
        "            color='red') # Set the color of the chart\n",
        "\n",
        "# Set the title\n",
        "plt.title('Box Plot: Distribution of Customer Ages')\n",
        "\n",
        "# Label for the x-axis\n",
        "plt.xlabel('Age')\n",
        "\n",
        "# Display the box plot\n",
        "plt.show()"
      ],
      "metadata": {
        "id": "12MpbSog1brb"
      },
      "execution_count": null,
      "outputs": []
    },
    {
      "cell_type": "markdown",
      "source": [
        "#### <font color='green'> Challenge 3.4: Distribution analysis"
      ],
      "metadata": {
        "id": "_E8ghDqKc7Bg"
      }
    },
    {
      "cell_type": "code",
      "source": [
        "# Question\n",
        "# ---\n",
        "# Analyze the distribution of monthly profits using a histogram.\n",
        "# ---\n",
        "# YOUR CODE GOES BELOW\n",
        "\n",
        "\n",
        "# Set chart size\n",
        "plt.figure(figsize=(10, 5))\n",
        "\n",
        "# Plot chart\n",
        "\n",
        "\n",
        "# Set chart title\n",
        "plt.title('Distribution: Histogram of Monthly Profits')\n",
        "\n",
        "# Label axes\n",
        "plt.xlabel('Profit Range')\n",
        "plt.ylabel('Frequency')\n",
        "\n",
        "# Display the histogram\n",
        "plt.show()"
      ],
      "metadata": {
        "id": "N3Cx5OYIdCVA"
      },
      "execution_count": null,
      "outputs": []
    },
    {
      "cell_type": "markdown",
      "source": [
        "#### 3.5 Comparisons of items analysis"
      ],
      "metadata": {
        "id": "vlXMeUIy03ke"
      }
    },
    {
      "cell_type": "markdown",
      "source": [
        "These types of charts are most suitable when we need to compare values across different categories. They include:\n",
        "> 1. Bar charts\n",
        "> 2. Clustered bar/column charts"
      ],
      "metadata": {
        "id": "tBWInGMB1Sb7"
      }
    },
    {
      "cell_type": "markdown",
      "source": [
        "###### **Bar chart**"
      ],
      "metadata": {
        "id": "XFFDYPsjKPb3"
      }
    },
    {
      "cell_type": "markdown",
      "source": [
        "\n",
        "We use horizontal bar charts to compare values across category groups.\n"
      ],
      "metadata": {
        "id": "wx3QDOeeLjjN"
      }
    },
    {
      "cell_type": "code",
      "source": [
        "# Question\n",
        "# ---\n",
        "# Create a bar chart to compare the total purchases across the customer age groups\n",
        "# ---\n",
        "\n",
        "# Grouping by Age_Group and summing up the Total_Purchases\n",
        "age_group_data = customer_data.groupby('Age_Group')['Total_Purchases'].sum()\n",
        "\n",
        "# View output\n",
        "age_group_data"
      ],
      "metadata": {
        "id": "c71k5U2U1d88"
      },
      "execution_count": null,
      "outputs": []
    },
    {
      "cell_type": "code",
      "source": [
        "# Set chart size\n",
        "plt.figure(figsize=(12, 6))\n",
        "plt.bar(age_group_data.index, age_group_data.values, color='skyblue')\n",
        "\n",
        "# Set chart title\n",
        "plt.title('Comparison of Total Purchases Across Age Groups')\n",
        "\n",
        "# Set axes label\n",
        "plt.xlabel('Age Group')\n",
        "plt.ylabel('Total Purchases')\n",
        "\n",
        "# Display plot\n",
        "plt.xticks(rotation=25)\n",
        "plt.show()"
      ],
      "metadata": {
        "id": "qI_6r08-_nk7"
      },
      "execution_count": null,
      "outputs": []
    },
    {
      "cell_type": "markdown",
      "source": [
        "##### **Clustered bar chart**"
      ],
      "metadata": {
        "id": "QdvDO_0QK2go"
      }
    },
    {
      "cell_type": "markdown",
      "source": [
        "This is useful when we need to show the values of multiple category groups."
      ],
      "metadata": {
        "id": "2dysL66JLiVY"
      }
    },
    {
      "cell_type": "code",
      "source": [
        "# Question\n",
        "# ---\n",
        "# Create a clustered bar chart to compare the total purchases across different age groups and genders.\n",
        "# ---\n",
        "\n",
        "# Group by Age_Group and Gender, and calculate the sum of Total_Purchases\n",
        "grouped_data = customer_data.groupby(['Age_Group', 'Gender'])['Total_Purchases'].sum().unstack()\n",
        "\n",
        "# View output\n",
        "grouped_data"
      ],
      "metadata": {
        "id": "-LZZXcnAK3DH"
      },
      "execution_count": null,
      "outputs": []
    },
    {
      "cell_type": "code",
      "source": [
        "# Set figure size\n",
        "plt.figure(figsize=(12, 8))\n",
        "\n",
        "\n",
        "# Plot clustered bars\n",
        "grouped_data.plot(kind='bar',\n",
        "                  width=.6, # Set the width of the bars\n",
        "                  color=['lightpink', 'lightblue', 'lightgreen']) # Set the color of the chart\n",
        "\n",
        "# Set labels and title\n",
        "plt.title('Total Purchases by Age Group and Gender')\n",
        "plt.xlabel('Age Group')\n",
        "plt.ylabel('Total Purchases')\n",
        "\n",
        "# Style x-ticks\n",
        "plt.xticks(rotation=35)\n",
        "\n",
        "# Display legend\n",
        "plt.legend(title='Gender',\n",
        "           loc='upper right') # Style the legend\n",
        "\n",
        "# Display plot\n",
        "plt.show()"
      ],
      "metadata": {
        "id": "R4Cf_ZQY_80s"
      },
      "execution_count": null,
      "outputs": []
    },
    {
      "cell_type": "markdown",
      "source": [
        "#### <font color='green'> Challenge 3.5: Comparisons of items analysis"
      ],
      "metadata": {
        "id": "wZyT2SnajkGQ"
      }
    },
    {
      "cell_type": "code",
      "source": [
        "# Question\n",
        "# ---\n",
        "# Compare the monthly profits across different months using a bar chart.\n",
        "# ---\n",
        "# YOUR CODE GOES BELOW\n",
        "\n",
        "# Set chart size\n",
        "plt.figure(figsize=(10, 5))\n",
        "\n",
        "# Plot bar chart here\n",
        "\n",
        "\n",
        "# Set chart title\n",
        "plt.title('Comparison: Monthly Profits Across Different Months')\n",
        "\n",
        "# Label axes\n",
        "plt.xlabel('Month')\n",
        "plt.ylabel('Profit')\n",
        "\n",
        "# Display legend\n",
        "plt.legend()\n",
        "\n",
        "# Display the bar chart\n",
        "plt.show()"
      ],
      "metadata": {
        "id": "HmXCDrItj6bR"
      },
      "execution_count": null,
      "outputs": []
    },
    {
      "cell_type": "markdown",
      "source": [
        "## 4. Format style"
      ],
      "metadata": {
        "id": "uvRDxhxICi-v"
      }
    },
    {
      "cell_type": "markdown",
      "source": [
        "Formatting the styles of our charts is a key data visualization best practice as it ensures that our charts are easily understood, as well as remaining aesthetically appealing.\n",
        "\n",
        "Within this category it includes the following techniques:\n",
        "> 1. Color selection\n",
        "> 2. Use of labels\n",
        "> 3. Use of gridlines"
      ],
      "metadata": {
        "id": "cfGRLLY81pRy"
      }
    },
    {
      "cell_type": "markdown",
      "source": [
        "### Examples"
      ],
      "metadata": {
        "id": "3yzI0ZnH1puO"
      }
    },
    {
      "cell_type": "markdown",
      "source": [
        "#### 4.1 Color selection"
      ],
      "metadata": {
        "id": "A_4-BxxKCrrD"
      }
    },
    {
      "cell_type": "markdown",
      "source": [
        "Color can be used to represent different categories in your data, or highlight a secondary metric.\n",
        "\n",
        "In Python, using matplotlib or seaborn, we can select pre-defined colors/color palettes, as well as customize the colors that we use in the visualization by using the color hex codes."
      ],
      "metadata": {
        "id": "8I019AXT1uTL"
      }
    },
    {
      "cell_type": "markdown",
      "source": [
        "##### **Using pre-defined colors in the `seaborn` and `matplotlib` libraries**"
      ],
      "metadata": {
        "id": "3iJg_9NzqBnV"
      }
    },
    {
      "cell_type": "markdown",
      "source": [
        "- [Here](https://matplotlib.org/stable/gallery/color/named_colors.html) is a link to the list of named colors available in the matplotlib library.\n",
        "\n",
        "- [This](https://seaborn.pydata.org/tutorial/color_palettes.html) is the documentation for the color palettes available in `seaborn`."
      ],
      "metadata": {
        "id": "hwgc5ZrmKJ1G"
      }
    },
    {
      "cell_type": "code",
      "source": [
        "# Question\n",
        "# ---\n",
        "# Create a bar chart to visualize the average total purchases by different age groups.\n",
        "# Utilize a distinct color using hex color codes for each age group\n",
        "# ---\n",
        "\n",
        "# Grouping by Age_Group and calculating the average Total_Purchases\n",
        "age_group_avg_purchases = customer_data.groupby('Age_Group')['Total_Purchases'].mean()\n",
        "\n",
        "# View output\n",
        "age_group_avg_purchases"
      ],
      "metadata": {
        "id": "XQZx_E5FICIQ"
      },
      "execution_count": null,
      "outputs": []
    },
    {
      "cell_type": "code",
      "source": [
        "# Setting up the color palette using matplotlib's named color list\n",
        "colors = ['royalblue', 'limegreen', 'tomato', 'gold', 'violet', 'skyblue', 'lightcoral']\n",
        "\n",
        "# Set chart size\n",
        "plt.figure(figsize=(12, 6))\n",
        "\n",
        "# Plot chart\n",
        "plt.bar(age_group_avg_purchases.index, age_group_avg_purchases.values, color=colors)\n",
        "\n",
        "# Set chart title and axes label\n",
        "plt.title('Average Total Purchases by Age Group')\n",
        "plt.xlabel('Age Group')\n",
        "plt.ylabel('Average Total Purchases')\n",
        "\n",
        "# Style x-ticks\n",
        "plt.xticks(rotation=30)\n",
        "\n",
        "# Display chart\n",
        "plt.show()"
      ],
      "metadata": {
        "id": "zOp_XH5HJeoU"
      },
      "execution_count": null,
      "outputs": []
    },
    {
      "cell_type": "markdown",
      "source": [
        "##### **Defining colors in the chart by using color hex codes**"
      ],
      "metadata": {
        "id": "BqQSowljIBy6"
      }
    },
    {
      "cell_type": "markdown",
      "source": [
        "Here is a helpful resource to select color hex codes --> [Color hex codes website](https://htmlcolorcodes.com/)"
      ],
      "metadata": {
        "id": "CDXbWV3pJ_kN"
      }
    },
    {
      "cell_type": "code",
      "source": [
        "# Setting up the color palette using hex color codes\n",
        "colors = ['#4169E1', '#32CD32', '#FF6347', '#FFD700', '#EE82EE', '#87CEEB', '#F08080']\n",
        "\n",
        "# Set chart size\n",
        "plt.figure(figsize=(12, 6))\n",
        "\n",
        "# Plot chart\n",
        "plt.bar(age_group_avg_purchases.index, age_group_avg_purchases.values, color=colors)\n",
        "\n",
        "# Set chart title and axes label\n",
        "plt.title('Average Total Purchases by Age Group')\n",
        "plt.xlabel('Age Group')\n",
        "plt.ylabel('Average Total Purchases')\n",
        "\n",
        "# Style x-ticks\n",
        "plt.xticks(rotation=30)\n",
        "\n",
        "# Display chart\n",
        "plt.show()"
      ],
      "metadata": {
        "id": "GtnUYJC-D83N"
      },
      "execution_count": null,
      "outputs": []
    },
    {
      "cell_type": "markdown",
      "source": [
        "#### <font color='green'> Challenge 4.1: Color selection"
      ],
      "metadata": {
        "id": "Z4NQo_7i2hUO"
      }
    },
    {
      "cell_type": "code",
      "source": [
        "# Question\n",
        "# ---\n",
        "# Create a line chart to visualize the changes in profits over the year.\n",
        "# Utilize distinct colors from matplotlib\n",
        "# ---\n",
        "\n",
        "# Set chart size\n",
        "plt.figure(figsize=(10, 5))\n",
        "\n",
        "# Plot chart with defined color from matplotlib library\n",
        "\n",
        "\n",
        "# Set chart title\n",
        "plt.title('Color Selection: Monthly Profits Trend Over the Year')\n",
        "\n",
        "# Label axes\n",
        "plt.xlabel('Month')\n",
        "plt.ylabel('Profit')\n",
        "\n",
        "# Display legend\n",
        "plt.legend()\n",
        "\n",
        "# Show the plot\n",
        "plt.show()"
      ],
      "metadata": {
        "id": "9Z_FgSy-2mQd"
      },
      "execution_count": null,
      "outputs": []
    },
    {
      "cell_type": "markdown",
      "source": [
        "#### 4.2 Labelling"
      ],
      "metadata": {
        "id": "ISr3d_B8Cuq8"
      }
    },
    {
      "cell_type": "markdown",
      "source": [
        "Labels in our charts can help to enhance the visual representation of your data, as they include the *actual* values from the data."
      ],
      "metadata": {
        "id": "-z_FONh21whF"
      }
    },
    {
      "cell_type": "code",
      "source": [
        "# Question\n",
        "# ---\n",
        "# Create a bar chart to visualize the average total purchases by different age groups.\n",
        "# Include average total purchases as data labels on each bar.\n",
        "# ---\n",
        "\n",
        "# Set chart size\n",
        "plt.figure(figsize=(12, 6))\n",
        "\n",
        "# Plot chart\n",
        "bars = plt.bar(age_group_avg_purchases.index, age_group_avg_purchases.values, color='skyblue')\n",
        "\n",
        "# Adding data labels\n",
        "for bar in bars:\n",
        "    yval = bar.get_height()\n",
        "    # Add labels using plt.text and style the labels\n",
        "    plt.text(bar.get_x() + bar.get_width()/2, yval, round(yval, 2), va='bottom', ha='center', color='black')\n",
        "\n",
        "# Set chart title and axes label\n",
        "plt.title('Average Total Purchases by Age Group')\n",
        "plt.xlabel('Age Group')\n",
        "plt.ylabel('Average Total Purchases')\n",
        "\n",
        "# Style x-ticks\n",
        "plt.xticks(rotation=45)\n",
        "\n",
        "# Display plot\n",
        "plt.show()"
      ],
      "metadata": {
        "id": "PSTdTb5zLNpk"
      },
      "execution_count": null,
      "outputs": []
    },
    {
      "cell_type": "markdown",
      "source": [
        "#### <font color='green'> Challenge 4.2: Labelling"
      ],
      "metadata": {
        "id": "g5malnUn2p_Z"
      }
    },
    {
      "cell_type": "code",
      "source": [
        "# Challenge 2: Use of Labels\n",
        "# ---\n",
        "# Create a line chart to visualize the changes in profits over the year.\n",
        "# Ensure clear and concise labels\n",
        "# ---\n",
        "# YOUR CODE GOES BELOW\n",
        "\n",
        "# Set chart size\n",
        "plt.figure(figsize=(10, 5))\n",
        "\n",
        "# Plot chart with labels\n",
        "\n",
        "\n",
        "\n",
        "# Set chart title\n",
        "plt.title('Monthly Profits Trend Over the Year (Labels)')\n",
        "\n",
        "# Label axes\n",
        "plt.xlabel('Month')\n",
        "plt.ylabel('Profit')\n",
        "\n",
        "# Display legend\n",
        "plt.legend()\n",
        "\n",
        "# Show the plot\n",
        "plt.show()"
      ],
      "metadata": {
        "id": "YljeyV_EW_1h"
      },
      "execution_count": null,
      "outputs": []
    },
    {
      "cell_type": "markdown",
      "source": [
        "#### 4.3 Use of gridlines"
      ],
      "metadata": {
        "id": "kMzWBLpxC0jX"
      }
    },
    {
      "cell_type": "markdown",
      "source": [
        "Gridlines can help us to enhance the clarity and readability of our charts. In addition, they can be helpful when we need to compare between different thresholds in our dataset."
      ],
      "metadata": {
        "id": "XJm7f8HJ13eM"
      }
    },
    {
      "cell_type": "markdown",
      "source": [
        "##### **Adding gridlines from the visualization**"
      ],
      "metadata": {
        "id": "HtL9CN_jvOtY"
      }
    },
    {
      "cell_type": "code",
      "source": [
        "# Question\n",
        "# ---\n",
        "# Create a bar chart with gridlines that displays the average total purchases by age group\n",
        "# ---\n",
        "\n",
        "# Set chart size\n",
        "plt.figure(figsize=(12, 6))\n",
        "\n",
        "# Plot chart\n",
        "plt.bar(age_group_avg_purchases.index,\n",
        "        age_group_avg_purchases.values,\n",
        "        color='salmon') # Style chart\n",
        "\n",
        "# Set chart title\n",
        "plt.title('Average Total Purchases by Age Group')\n",
        "\n",
        "# Set axes label\n",
        "plt.xlabel('Age Group')\n",
        "plt.ylabel('Average Total Purchases')\n",
        "plt.xticks(rotation=45)\n",
        "\n",
        "# Display grid\n",
        "plt.grid(True)\n",
        "\n",
        "# Display plot\n",
        "plt.show()"
      ],
      "metadata": {
        "id": "Iw0zykLuL5Rv"
      },
      "execution_count": null,
      "outputs": []
    },
    {
      "cell_type": "markdown",
      "source": [
        "##### **Removing gridlines from the visualization**"
      ],
      "metadata": {
        "id": "VNmpTksfMkei"
      }
    },
    {
      "cell_type": "markdown",
      "source": [
        "There are certain situations where using a gridline would add clutter to the chart."
      ],
      "metadata": {
        "id": "j8KlIiZFNJDY"
      }
    },
    {
      "cell_type": "code",
      "source": [
        "# Question\n",
        "# ---\n",
        "# Create a bar chart without gridlines that displays the average total purchases by age group\n",
        "# ---\n",
        "\n",
        "# Set chart size\n",
        "plt.figure(figsize=(12, 6))\n",
        "\n",
        "# Plot chart\n",
        "plt.bar(age_group_avg_purchases.index, age_group_avg_purchases.values, color='salmon')\n",
        "\n",
        "# Set chart title\n",
        "plt.title('Average Total Purchases by Age Group')\n",
        "\n",
        "# Set axes label\n",
        "plt.xlabel('Age Group')\n",
        "plt.ylabel('Average Total Purchases')\n",
        "plt.xticks(rotation=45)\n",
        "\n",
        "# Remove grid\n",
        "plt.grid(False)\n",
        "\n",
        "# Display plot\n",
        "plt.show()"
      ],
      "metadata": {
        "id": "aj9MKNceMk5G"
      },
      "execution_count": null,
      "outputs": []
    },
    {
      "cell_type": "markdown",
      "source": [
        "#### <font color='green'> Challenge 4.3: Use of gridlines"
      ],
      "metadata": {
        "id": "WaayrdX32waD"
      }
    },
    {
      "cell_type": "code",
      "source": [
        "# Challenge 3: Use of Gridlines\n",
        "\n",
        "# Question\n",
        "# ---\n",
        "# Create a line chart to visualize the changes in profits over the year.\n",
        "# Incorporate grid lines in the chart.\n",
        "# ---\n",
        "\n",
        "# YOUR CODE GOES BELOW\n",
        "# ---\n",
        "\n",
        "# Set chart size\n",
        "plt.figure(figsize=(10, 5))\n",
        "\n",
        "# Plot chart\n",
        "plt.plot(df_profit['Month'], # Define x-axis\n",
        "         df_profit['Profit'], # Define y-axis\n",
        "         marker='o', # Style of markers\n",
        "         color='mediumorchid', # Set color\n",
        "         linestyle='-', # Style of line\n",
        "         linewidth=2, # Set line width\n",
        "         label='Monthly Profits') # Set label\n",
        "\n",
        "# Set chart title\n",
        "plt.title('Monthly Profits Trend Over the Year (Grid)')\n",
        "\n",
        "# Label axes\n",
        "plt.xlabel('Month')\n",
        "plt.ylabel('Profit')\n",
        "\n",
        "# Display legend\n",
        "plt.legend()\n",
        "\n",
        "# Add grid layout here\n",
        "\n",
        "\n",
        "\n",
        "# Show the plot\n",
        "plt.show()"
      ],
      "metadata": {
        "id": "5taK3WGo2yY5"
      },
      "execution_count": null,
      "outputs": []
    },
    {
      "cell_type": "markdown",
      "source": [
        "## 5. Highlighting what's important"
      ],
      "metadata": {
        "id": "8xG4F16qC3nw"
      }
    },
    {
      "cell_type": "markdown",
      "source": [
        "- Techniques like conditional formatting and reference lines make significant data points stand out, aiding comprehension.\n",
        "\n",
        "- They are useful in complex datasets or reports to quickly convey key insights and trends, guiding decision-makers."
      ],
      "metadata": {
        "id": "Zh5--Y9SpybY"
      }
    },
    {
      "cell_type": "markdown",
      "source": [
        "### Examples"
      ],
      "metadata": {
        "id": "Bygf9clk191H"
      }
    },
    {
      "cell_type": "markdown",
      "source": [
        "#### 5.1 Conditional formatting"
      ],
      "metadata": {
        "id": "GOHREm-m19TV"
      }
    },
    {
      "cell_type": "markdown",
      "source": [
        "We use conditional formatting in data visualizations, involving different colors to highlight specific data points or trends, making it easier for us to identify and interpret important information."
      ],
      "metadata": {
        "id": "FOkbdm50qMkb"
      }
    },
    {
      "cell_type": "code",
      "source": [
        "# Question\n",
        "# ---\n",
        "# Plot a bar chart to show total purchases by age with a different color for high total purchases (> 13000).\n",
        "# ---\n",
        "\n",
        "# Total purchases by age\n",
        "age_group_total_purchases = customer_data.groupby('Age')['Total_Purchases'].sum()\n",
        "\n",
        "# View output\n",
        "age_group_total_purchases.head()"
      ],
      "metadata": {
        "id": "zMwabnuiqcVb"
      },
      "execution_count": null,
      "outputs": []
    },
    {
      "cell_type": "code",
      "source": [
        "# Set chart size\n",
        "plt.figure(figsize=(12, 6))\n",
        "\n",
        "# Define the colors based on the conditions in place\n",
        "colors = ['crimson' if purchases > 13000\n",
        "          else 'lightgrey' for purchases in age_group_total_purchases]\n",
        "\n",
        "# Plot chart\n",
        "plt.bar(age_group_total_purchases.index, age_group_total_purchases, color=colors)\n",
        "\n",
        "# Set chart title\n",
        "plt.title('Total Purchases by Age with Conditional Formatting')\n",
        "\n",
        "# Set axes label\n",
        "plt.xlabel('Age')\n",
        "plt.ylabel('Total Purchases')\n",
        "\n",
        "# Display plot\n",
        "plt.show()"
      ],
      "metadata": {
        "id": "TLKdd9OlMvmB"
      },
      "execution_count": null,
      "outputs": []
    },
    {
      "cell_type": "markdown",
      "source": [
        "#### <font color='green'> Challenge 5.1: Conditional formatting"
      ],
      "metadata": {
        "id": "gjiRE3r025Xe"
      }
    },
    {
      "cell_type": "code",
      "source": [
        "# Question\n",
        "# ---\n",
        "# Create a bar chart using the DataFrame with monthly profit data.\n",
        "# Apply conditional formatting to highlight months with profits exceeding $50,000 in a distinctive color.\n",
        "# ---\n",
        "# YOUR CODE GOES BELOW\n",
        "# ---\n",
        "\n",
        "\n",
        "# Set chart size\n",
        "plt.figure(figsize=(10, 6))\n",
        "\n",
        "# Apply conditional formatting to the chart\n",
        "\n",
        "\n",
        "\n",
        "# Set axis labels and chart title\n",
        "plt.title('Monthly Profit with Conditional Formatting')\n",
        "plt.xlabel('Month')\n",
        "plt.ylabel('Profit')\n",
        "\n",
        "# Display plot\n",
        "plt.show()"
      ],
      "metadata": {
        "id": "m1hjBD1pqlkQ"
      },
      "execution_count": null,
      "outputs": []
    },
    {
      "cell_type": "markdown",
      "source": [
        "#### 5.2 Reference lines"
      ],
      "metadata": {
        "id": "UnuYfq0q1-o2"
      }
    },
    {
      "cell_type": "markdown",
      "source": [
        "We use reference lines to act as visual guides in a chart, providing a benchmark or reference point to better understand and compare data against specific values, such as averages or goals."
      ],
      "metadata": {
        "id": "0EZ22ag-qLud"
      }
    },
    {
      "cell_type": "code",
      "source": [
        "# Question\n",
        "# ---\n",
        "# Plot a bar chart to show total purchases by age with a reference line for the average total purchases.\n",
        "# ---\n",
        "\n",
        "# Calculate the average\n",
        "avg_purchases = age_group_total_purchases.mean().round()\n",
        "\n",
        "# View output\n",
        "avg_purchases"
      ],
      "metadata": {
        "id": "twljMMeyqdtz"
      },
      "execution_count": null,
      "outputs": []
    },
    {
      "cell_type": "code",
      "source": [
        "# Set chart size\n",
        "plt.figure(figsize=(12, 6))\n",
        "\n",
        "# Plot chart\n",
        "plt.bar(age_group_total_purchases.index, age_group_total_purchases)\n",
        "\n",
        "# Define the reference line\n",
        "plt.axhline(y=avg_purchases, color='red', linestyle='--', label=f'Average: {avg_purchases}')\n",
        "\n",
        "# Set chart title\n",
        "plt.title('Total Purchases by Age with Reference Line')\n",
        "\n",
        "# Set axes label\n",
        "plt.xlabel('Age')\n",
        "plt.ylabel('Total Purchases')\n",
        "\n",
        "# Display legend and chart\n",
        "plt.legend()\n",
        "plt.show()"
      ],
      "metadata": {
        "id": "qvN2WTA6ewKF"
      },
      "execution_count": null,
      "outputs": []
    },
    {
      "cell_type": "markdown",
      "source": [
        "#### <font color='green'>Challenge 5.2: Reference lines"
      ],
      "metadata": {
        "id": "NWSGIT4728Wi"
      }
    },
    {
      "cell_type": "code",
      "source": [
        "# ---\n",
        "# Qustion\n",
        "# Create a bar chart using the DataFrame with monthly profit data.\n",
        "# Add a horizontal reference line to indicate the average profit across the year.\n",
        "# ---\n",
        "# YOUR CODE GOES BELOW\n",
        "# ---\n",
        "\n",
        "# Create bar chart\n",
        "plt.figure(figsize=(10, 6))\n",
        "plt.bar(df_profit['Month'], df_profit['Profit'], color='skyblue')\n",
        "\n",
        "# Add red dashed line at average profit\n",
        "\n",
        "\n",
        "\n",
        "# Set chart title and label axes\n",
        "plt.title('Monthly Profit with Average Line')\n",
        "plt.xlabel('Month')\n",
        "plt.ylabel('Profit')\n",
        "\n",
        "# Display the plot\n",
        "plt.show()"
      ],
      "metadata": {
        "id": "wksIR21nqmPu"
      },
      "execution_count": null,
      "outputs": []
    },
    {
      "cell_type": "markdown",
      "source": [
        "#### 5.3 Highlighting trends"
      ],
      "metadata": {
        "id": "Nf9isxzJqNXK"
      }
    },
    {
      "cell_type": "markdown",
      "source": [
        "Highlighting trends in our data visualizations involves emphasizing the overall patterns or directions in the data, making it simpler for our viewers to grasp the key insights and changes over time."
      ],
      "metadata": {
        "id": "VJx-FTMjqbR0"
      }
    },
    {
      "cell_type": "code",
      "source": [
        "# Question\n",
        "# ---\n",
        "# Plot a line chart to highlight trends in total purchases by age.\n",
        "# ---\n",
        "\n",
        "# Set chart size\n",
        "plt.figure(figsize=(12, 6))\n",
        "\n",
        "# Plot chart with trend line\n",
        "plt.plot(age_group_total_purchases.index,\n",
        "         age_group_total_purchases,\n",
        "         # Style chart\n",
        "         color='purple',\n",
        "         marker='s',\n",
        "         linestyle='--',\n",
        "         label='Trend Line')\n",
        "\n",
        "# Set chart title\n",
        "plt.title('Trend of Total Purchases by Age')\n",
        "\n",
        "# Set axes label\n",
        "plt.xlabel('Age')\n",
        "plt.ylabel('Total Purchases')\n",
        "\n",
        "# Display legend and plot\n",
        "plt.legend()\n",
        "plt.show()"
      ],
      "metadata": {
        "id": "JP2IAQ3FqejL"
      },
      "execution_count": null,
      "outputs": []
    },
    {
      "cell_type": "markdown",
      "source": [
        "#### <font color='green'> Challenge 5.3: Highlighting trends"
      ],
      "metadata": {
        "id": "PXBQVuby2_He"
      }
    },
    {
      "cell_type": "code",
      "source": [
        "# ---\n",
        "# Question\n",
        "# Using a line chart, visualize the profit trend for the second quarter (April, May, June)\n",
        "# while displaying the rest of the year's data.\n",
        "# Use different colors to show the trend\n",
        "# ---\n",
        "# YOUR CODE GOES BELOW\n",
        "\n",
        "# Plotting the data\n",
        "plt.figure(figsize=(12, 6))\n",
        "\n",
        "# Plot line for the entire year\n",
        "plt.plot(df_profit['Month'], df_profit['Profit'], color='lightcoral', marker='o')\n",
        "\n",
        "# Highlighting Q2 (April, May, June)\n",
        "q2_months = ['Apr', 'May', 'Jun']\n",
        "q2_data = df_profit[df_profit['Month'].isin(q2_months)]\n",
        "\n",
        "# Plot Q2 data in a different color\n",
        "\n",
        "\n",
        "# Adding title and labels\n",
        "plt.title('Profit Trend for Q2 Highlighted in a Line Chart')\n",
        "plt.xlabel('Month')\n",
        "plt.ylabel('Profit')\n",
        "\n",
        "# Display the plot\n",
        "plt.show()"
      ],
      "metadata": {
        "id": "m92ENu-lUVkg"
      },
      "execution_count": null,
      "outputs": []
    },
    {
      "cell_type": "markdown",
      "source": [
        "#### 5.4 Projecting trends"
      ],
      "metadata": {
        "id": "woWcJEjjqNyR"
      }
    },
    {
      "cell_type": "markdown",
      "source": [
        "Projecting trends extends our visualizations beyond existing data, offering a glimpse into potential future developments based on historical patterns, helping stakeholders anticipate and plan for the future."
      ],
      "metadata": {
        "id": "Bn_lFeplqaQR"
      }
    },
    {
      "cell_type": "code",
      "source": [
        "# Question\n",
        "# ---\n",
        "# Create a scatter chart to visualize the actual data points and the projected trend of total purchases by age.\n",
        "# ---\n",
        "\n",
        "# Fit a linear trend line using numpy\n",
        "z = np.polyfit(range(len(age_group_total_purchases)), age_group_total_purchases, 1)\n",
        "\n",
        "# Extend the age range for projection\n",
        "extended_ages = np.arange(min(age_group_total_purchases.index), max(age_group_total_purchases.index) + 10)\n",
        "\n",
        "# View output\n",
        "extended_ages"
      ],
      "metadata": {
        "id": "1IacFBjL1_dN"
      },
      "execution_count": null,
      "outputs": []
    },
    {
      "cell_type": "code",
      "source": [
        "# Set chart size\n",
        "plt.figure(figsize=(12, 6))\n",
        "\n",
        "# Plot projected line chart\n",
        "plt.plot(extended_ages, np.poly1d(z)(np.arange(len(extended_ages))), linestyle='--', color='orange', label='Projected Trend')\n",
        "\n",
        "# Plot scatter chart\n",
        "plt.scatter(age_group_total_purchases.index, age_group_total_purchases, color='blue', label='Actual Data')\n",
        "\n",
        "# Set chart title and axes labels\n",
        "plt.title('Projected Trend of Total Purchases by Age')\n",
        "plt.xlabel('Age')\n",
        "plt.ylabel('Total Purchases')\n",
        "\n",
        "# Display legend and plot\n",
        "plt.legend()\n",
        "plt.show()"
      ],
      "metadata": {
        "id": "tOI4cN10PRbi"
      },
      "execution_count": null,
      "outputs": []
    }
  ]
}